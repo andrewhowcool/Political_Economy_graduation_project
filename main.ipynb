{
 "cells": [
  {
   "cell_type": "markdown",
   "metadata": {},
   "source": [
    "<font size=\"7\" face=\"monospace\">Graduation Topic</font>"
   ]
  },
  {
   "cell_type": "markdown",
   "metadata": {},
   "source": [
    "<br>\n",
    "<font size=\"5\" face=\"monospace\">\n",
    "    資料來源：http://mops.twse.com.tw/mops/web/t163sb04\n",
    "</font>"
   ]
  },
  {
   "cell_type": "markdown",
   "metadata": {},
   "source": [
    "<br>\n",
    "<font size=\"5\" face=\"monospace\">\n",
    "    篩選標準：eps, 營收, 毛利淨額\n",
    "</font>\n",
    "\n"
   ]
  },
  {
   "cell_type": "markdown",
   "metadata": {},
   "source": [
    "<font size=\"5\" face=\"monospace\">\n",
    "    設置年度（連三季）<br>\n",
    "    取得：yoy 連三季eps、營收、毛利淨額皆成長之公司\n",
    "    <br>\n",
    "    <br>\n",
    "    <br>\n",
    "</font>"
   ]
  },
  {
   "cell_type": "markdown",
   "metadata": {},
   "source": [
    "<font size=\"5\" face=\"monospace\">導入預設函式</font>"
   ]
  },
  {
   "cell_type": "code",
   "execution_count": 1,
   "metadata": {},
   "outputs": [
    {
     "name": "stdout",
     "output_type": "stream",
     "text": [
      "CPU times: user 684 ms, sys: 266 ms, total: 949 ms\n",
      "Wall time: 2.24 s\n"
     ]
    }
   ],
   "source": [
    "%%time\n",
    "import prepare\n"
   ]
  },
  {
   "cell_type": "markdown",
   "metadata": {},
   "source": [
    "<font size=\"5\" face=\"monospace\">\n",
    "    設置年度\n",
    "    \n",
    "</font>"
   ]
  },
  {
   "cell_type": "markdown",
   "metadata": {},
   "source": [
    "<font size=\"3\" face=\"monospace\">\n",
    "    eg. <br>\n",
    "    若要查詢105年第3季至106第1季<br>\n",
    "    year_new = [105, 3, 106, 1]<br>\n",
    "    year_old = [104, 3, 105, 1]<br>\n",
    "    <br>\n",
    "    若要查詢103年第1季至103第3季<br>\n",
    "    year_new = [103, 1, 103, 3]<br>\n",
    "    year_old = [102, 1, 102, 3]<br>\n",
    "</font>"
   ]
  },
  {
   "cell_type": "code",
   "execution_count": 2,
   "metadata": {},
   "outputs": [
    {
     "name": "stdout",
     "output_type": "stream",
     "text": [
      "CPU times: user 7 µs, sys: 2 µs, total: 9 µs\n",
      "Wall time: 15 µs\n"
     ]
    }
   ],
   "source": [
    "%%time\n",
    "year_new = [105, 3, 106, 1]\n",
    "year_old = [104, 3, 105, 1]\n",
    "seasons = 3"
   ]
  },
  {
   "cell_type": "markdown",
   "metadata": {},
   "source": [
    "<font size=\"5\" face=\"monospace\">單年度單季資料</font>"
   ]
  },
  {
   "cell_type": "code",
   "execution_count": 3,
   "metadata": {},
   "outputs": [
    {
     "name": "stdout",
     "output_type": "stream",
     "text": [
      "CPU times: user 38.3 ms, sys: 32.7 ms, total: 71 ms\n",
      "Wall time: 20.3 s\n"
     ]
    }
   ],
   "source": [
    "%%time\n",
    "if __name__ == '__main__':\n",
    "    pool = prepare.mp.Pool()\n",
    "    \n",
    "    Y = prepare.inputs(year_new)\n",
    "    \n",
    "    s = prepare.multicore_season(Y, pool)\n",
    "    \n",
    "    pool.close\n",
    "    pool.join\n",
    "    \n",
    "    s1 = s[0]\n",
    "    s2 = s[1]\n",
    "    s3 = s[2]    "
   ]
  },
  {
   "cell_type": "markdown",
   "metadata": {},
   "source": [
    "<font size=\"5\" face=\"monospace\">YoY三季成長資料</font>"
   ]
  },
  {
   "cell_type": "code",
   "execution_count": 4,
   "metadata": {},
   "outputs": [
    {
     "name": "stdout",
     "output_type": "stream",
     "text": [
      "CPU times: user 63.5 ms, sys: 43.9 ms, total: 107 ms\n",
      "Wall time: 28.7 s\n"
     ]
    }
   ],
   "source": [
    "%%time\n",
    "if __name__ == '__main__':\n",
    "    pool = prepare.mp.Pool()\n",
    "    \n",
    "    \n",
    "    Y_new = prepare.inputs(year_new)\n",
    "    Y_old = prepare.inputs(year_old)\n",
    "    \n",
    "    g = prepare.multicore_growth(seasons, Y_new, Y_old, pool)\n",
    "    \n",
    "    pool.close\n",
    "    pool.join    \n",
    "    \n",
    "    g1 = g[0]\n",
    "    g2 = g[1]\n",
    "    g3 = g[2]     "
   ]
  },
  {
   "cell_type": "markdown",
   "metadata": {},
   "source": [
    "<font size=\"5\" face=\"monospace\">取連三季成長之公司：eps成長 、 營收成長 、 毛利淨額成長</font>"
   ]
  },
  {
   "cell_type": "code",
   "execution_count": 5,
   "metadata": {},
   "outputs": [
    {
     "name": "stdout",
     "output_type": "stream",
     "text": [
      "CPU times: user 2.06 s, sys: 55.1 ms, total: 2.12 s\n",
      "Wall time: 2.16 s\n"
     ]
    }
   ],
   "source": [
    "%%time\n",
    "# eps\n",
    "e = prepare.eps(g, seasons)\n",
    "e1 = e[0]\n",
    "e2 = e[1]\n",
    "e3 = e[2]  \n",
    "   \n",
    "# 營收\n",
    "i = prepare.income(g, seasons)\n",
    "i1 = i[0]\n",
    "i2 = i[1]\n",
    "i3 = i[2]  \n",
    "    \n",
    "# 毛利淨額    \n",
    "p = prepare.profit(g, seasons)\n",
    "p1 = p[0]\n",
    "p2 = p[1]\n",
    "p3 = p[2]  "
   ]
  },
  {
   "cell_type": "markdown",
   "metadata": {},
   "source": [
    "<font size=\"5\" face=\"monospace\">取eps、營收、毛利淨額皆成長之交集</font>"
   ]
  },
  {
   "cell_type": "code",
   "execution_count": 6,
   "metadata": {},
   "outputs": [
    {
     "name": "stdout",
     "output_type": "stream",
     "text": [
      "CPU times: user 10.4 ms, sys: 1.07 ms, total: 11.4 ms\n",
      "Wall time: 10.8 ms\n"
     ]
    }
   ],
   "source": [
    "%%time\n",
    "intersec = prepare.intersection(e, i, p)\n",
    "\n",
    "e_intersec = intersec[0]\n",
    "e1_intersec = e_intersec[0]\n",
    "e2_intersec = e_intersec[1]\n",
    "e3_intersec = e_intersec[2]\n",
    "\n",
    "i_intersec = intersec[1]\n",
    "i1_intersec = i_intersec[0]\n",
    "i2_intersec = i_intersec[1]\n",
    "i3_intersec = i_intersec[2]\n",
    "\n",
    "p_intersec = intersec[2]\n",
    "p1_intersec = p_intersec[0]\n",
    "p2_intersec = p_intersec[1]\n",
    "p3_intersec = p_intersec[2]"
   ]
  },
  {
   "cell_type": "markdown",
   "metadata": {},
   "source": [
    "<br>\n",
    "<font size=\"7\" face=\"monospace\">演示區</font>"
   ]
  },
  {
   "cell_type": "markdown",
   "metadata": {},
   "source": [
    "<font size=\"3\" face=\"monospace\">\n",
    "    eg. 查詢105年第3季至106第1季<br><br>\n",
    "    105年第3季<br>\n",
    "    原始資料：s1（由左到右依序eps、營收、毛利淨額）<br>\n",
    "    成長資料：g1（yoy三季成長資料）, e1（eps連三季成長）, i1（營收連三季成長）, p1（毛利淨額連三季成長）<br>\n",
    "    取eps、營收、毛利淨額皆成長之交集資料：e1_intersec（單看eps）, i1_intersec（單看營收）, p1_intersec（單看毛利淨額）<br>\n",
    "    <br>\n",
    "    105年第4季<br>\n",
    "    原始資料：s2（由左到右依序eps、營收、毛利淨額）<br>\n",
    "    成長資料：g2（yoy三季成長資料）, e2（eps連三季成長）, i2（營收連三季成長）, p2（毛利淨額連三季成長）<br>\n",
    "    取eps、營收、毛利淨額皆成長之交集資料：e2_intersec（單看eps）, i2_intersec（單看營收）, p2_intersec（單看毛利淨額）<br>\n",
    "    <br>\n",
    "    106年第1季<br>\n",
    "    原始資料：s3（由左到右依序eps、營收、毛利淨額）<br>\n",
    "    成長資料：g3（yoy三季成長資料）, e3（eps連三季成長）, i3（營收連三季成長）, p3（毛利淨額連三季成長）<br>\n",
    "    取eps、營收、毛利淨額皆成長之交集資料：e3_intersec（單看eps）, i3_intersec（單看營收）, p3_intersec（單看毛利淨額）<br>\n",
    "    <br><br>\n",
    "    <br><br>\n",
    "    eg. 查詢i3_intersec中是否有三商電腦<br><br>\n",
    "    filter = i3_intersec['公司名稱'] == '三商電腦'  <br>\n",
    "    i3_intersec[filter] <br>\n",
    "</font>"
   ]
  },
  {
   "cell_type": "code",
   "execution_count": null,
   "metadata": {},
   "outputs": [],
   "source": [
    "s3"
   ]
  },
  {
   "cell_type": "code",
   "execution_count": null,
   "metadata": {},
   "outputs": [],
   "source": [
    "g3"
   ]
  },
  {
   "cell_type": "code",
   "execution_count": null,
   "metadata": {},
   "outputs": [],
   "source": [
    "i3"
   ]
  },
  {
   "cell_type": "code",
   "execution_count": null,
   "metadata": {},
   "outputs": [],
   "source": [
    "i3_intersec"
   ]
  },
  {
   "cell_type": "code",
   "execution_count": null,
   "metadata": {},
   "outputs": [],
   "source": [
    "filter = i3_intersec['公司名稱'] == '三商電腦' \n",
    "i3_intersec[filter] "
   ]
  },
  {
   "cell_type": "code",
   "execution_count": null,
   "metadata": {},
   "outputs": [],
   "source": []
  },
  {
   "cell_type": "markdown",
   "metadata": {},
   "source": [
    "<font size=\"5\" face=\"monospace\">輸出成excel</font>"
   ]
  },
  {
   "cell_type": "code",
   "execution_count": null,
   "metadata": {},
   "outputs": [],
   "source": [
    "%%time\n",
    "prepare.excel(e_intersec, i_intersec, p_intersec, seasons)"
   ]
  }
 ],
 "metadata": {
  "kernelspec": {
   "display_name": "Python 3",
   "language": "python",
   "name": "python3"
  },
  "language_info": {
   "codemirror_mode": {
    "name": "ipython",
    "version": 3
   },
   "file_extension": ".py",
   "mimetype": "text/x-python",
   "name": "python",
   "nbconvert_exporter": "python",
   "pygments_lexer": "ipython3",
   "version": "3.6.0"
  }
 },
 "nbformat": 4,
 "nbformat_minor": 2
}
