{
 "cells": [
  {
   "cell_type": "markdown",
   "metadata": {},
   "source": [
    "# Graduation Topic\n"
   ]
  },
  {
   "cell_type": "markdown",
   "metadata": {},
   "source": [
    "## 資料來源：http://mops.twse.com.tw/mops/web/t163sb04"
   ]
  },
  {
   "cell_type": "markdown",
   "metadata": {},
   "source": [
    "## 篩選標準：eps, 營收, 毛利淨額"
   ]
  },
  {
   "cell_type": "markdown",
   "metadata": {},
   "source": [
    "## 流程：\n",
    "\n",
    ">            1. 設置年份 -> multicore_growth -> growth -> multicore_season -> season \n",
    "            \n",
    ">            2. season -> elec -> category ->season\n",
    "            \n",
    ">            3. season -> multicore_season -> growth \n",
    "            \n",
    ">            4. growth -> compare_year -> multicore_growth\n",
    "            \n",
    ">            5. multicore_growth -> eps or income or profit -> compare_season -> eps or income or profit\n",
    "            \n",
    ">            6. eps or income or profit -> intersection -> excel\n"
   ]
  },
  {
   "cell_type": "markdown",
   "metadata": {},
   "source": [
    ">    def multicore_growth：啟動多進程，執行growth\n",
    "    \n",
    ">    def multicore_season：啟動多進程，執行season\n",
    "    \n",
    ">    def elec：選出電子類股\n",
    "    \n",
    ">    def category：篩選要的類別，eg. eps, 營收, 毛利淨額\n",
    "    \n",
    ">    def compare_year：將兩個年度的公司名單刪減成一樣的表格，且順序也一樣\n",
    "    \n",
    ">    def compare_season：將三個季度的公司名單刪減成一樣的表格，且順序也一樣\n",
    "    \n",
    ">    def season：找出指定年份三個季度的資料\n",
    "    \n",
    ">    def growth：計算eps, profit, income之成長率\n",
    "    \n",
    ">    def eps, profit, income：篩選出連三季成長之公司\n",
    "    \n",
    ">    def intersection：取eps, profit, income之交集公司\n",
    "    \n",
    ">    def excel：輸出成excel\n"
   ]
  },
  {
   "cell_type": "code",
   "execution_count": 1,
   "metadata": {},
   "outputs": [],
   "source": [
    "import requests\n",
    "import pandas as pd\n",
    "import multiprocessing as mp\n",
    "from functools import partial\n",
    "\n",
    "url = 'http://mops.twse.com.tw/mops/web/ajax_t163sb04'\n",
    "head = {'User-Agent':'Mozilla/5.0 (Macintosh; Intel Mac OS X 10_12_6) AppleWebKit/537.36 (KHTML, like Gecko) Chrome/60.0.3112.101 Safari/537.36'}\n",
    "payload = {\n",
    "    'encodeURIComponent':'1',\n",
    "    'step':'1',\n",
    "    'firstin':'1',\n",
    "    'off':'1',\n",
    "    'TYPEK':'sii',\n",
    "    'year':'',\n",
    "    'season':''\n",
    "}"
   ]
  },
  {
   "cell_type": "code",
   "execution_count": 2,
   "metadata": {},
   "outputs": [],
   "source": [
    "def inputs(raw):\n",
    "\n",
    "    y_start = int(raw[0])\n",
    "    y_end = int(raw[2])\n",
    "    s_start = int(raw[1])\n",
    "    s_end = int(raw[3])\n",
    "    \n",
    "    outputs = []\n",
    "    \n",
    "    #跨年度\n",
    "    if y_end - y_start == 1:\n",
    "        \n",
    "        #start\n",
    "        s = 4 - s_start + 1\n",
    "        for i in range(s):\n",
    "            outputs.append([y_start, s_start])\n",
    "            s_start += 1\n",
    "            \n",
    "        #end\n",
    "        s = 1\n",
    "        for i in range(s_end):\n",
    "            outputs.append([y_end, s])\n",
    "            s += 1      \n",
    "        \n",
    "        return outputs\n",
    "    \n",
    "    #同年度\n",
    "    elif y_end == y_start:\n",
    "        s = s_end - s_start + 1\n",
    "        for i in range(s):\n",
    "            outputs.append([y_start, s_start])\n",
    "            s_start += 1\n",
    "            \n",
    "        return outputs"
   ]
  },
  {
   "cell_type": "code",
   "execution_count": 3,
   "metadata": {},
   "outputs": [],
   "source": [
    "def elec(raw):\n",
    "    \n",
    "    #電子類股：公司代號\n",
    "    #資料來源:GoodInfo  https://goodinfo.tw/StockInfo/StockList.asp?MARKET_CAT=全部&INDUSTRY_CAT=電子零組件業&SHEET=交易狀況&SHEET2=日&RPT_TIME=最新資料\n",
    "    elec_companies = [\n",
    "        #電子零組件\n",
    "            1471,\t    1582,\t    2059,\t    2308,\t    2313,\t    2316,\t    2327,\t    2328,\t    2355,\t    2367,\t    2368,\t    2375,\t    2383,\t    2385,\t    2392,\t    2402,\t    2413,\t    2415,\t    2420,\t    2421,\t    2428,\t    2429,\t    2431,\t    2440,\t    2443,\t    2456,\t    2457,\t    2460,\t    2462,\t    2467,\t    2472,\t    2476,\t    2478,\t    2483,\t    2484,\t    2492,\t    2493,\t    3003,\t    3011,\t    3015,\t    3021,\t    3023,\t    3026,\t    3032,\t    3037,\t    3042,\t    3044,\t    3058,\t    3090,\t    3229,\t    3296,\t    3308,\t    3321,\t    3338,\t    3376,\t    3432,\t    3501,\t    3533,\t    3550,\t    3593,\t    3605,\t    3607,\t    3645,\t    3653,\t    3679,\t    4545,\t    4912,\t    4915,\t    4927,\t    4943,\t    4958,\t    4999,\t    5469,\t    6108,\t    6115,\t    6133,\t    6141,\t    6153,\t    6155,\t    6165,\t    6191,\t    6197,\t    6205,\t    6213,\t    6224,\t    6251,\t    6269,\t    6282,\t    6412,\t    6422,\t    6449,\t    8039,\t    8046,\t    8103,\t    8213,\t    8249,\t    1503,\n",
    "        #電機機械\n",
    "            1504,\t1506,\t1507,\t1512,\t1513,\t1514,\t1515,\t1517,\t1519,\t1521,\t1522,\t1524,\t1525,\t1526,\t1527,\t1528,\t1529,\t1530,\t1531,\t1532,\t1533,\t1535,\t1536,\t1537,\t1538,\t1539,\t1540,\t1541,\t1558,\t1560,\t1566,\t1568,\t1570,\t1580,\t1583,\t1586,\t1589,\t1590,\t1591,\t1592,\t1597,\t1599,\t2049,\t2066,\t2067,\t2228,\t2230,\t2231,\t2233,\t2235,\t2236,\t2371,\t3162,\t3167,\t3226,\t3379,\t3426,\t4502,\t4503,\t4506,\t4510,\t4513,\t4523,\t4526,\t4527,\t4528,\t4530,\t4532,\t4533,\t4534,\t4535,\t4543,\t4549,\t4550,\t4551,\t4552,\t4555,\t4557,\t4560,\t4562,\t5288,\t6122,\t6603,\t6605,\t6609,\t8027,\t8083,\t8107,\t8222,\t8255,\t8374,\t8996,\t9951,\n",
    "        #電器電纜\n",
    "            1603,\t1604,\t1605,\t1608,\t1609,\t1611,\t1612,\t1614,\t1615,\t1616,\t1617,\t1618,\t1626,\t2061,\t4609,\t4930,\n",
    "        #電腦及週邊\n",
    "            1569,\t2301,\t2305,\t2324,\t2331,\t2352,\t2353,\t2356,\t2357,\t2362,\t2364,\t2365,\t2376,\t2377,\t2380,\t2382,\t2387,\t2395,\t2397,\t2399,\t2405,\t2417,\t2424,\t2425,\t2442,\t2465,\t3002,\t3005,\t3013,\t3017,\t3022,\t3046,\t3057,\t3060,\t3071,\t3088,\t3211,\t3213,\t3231,\t3272,\t3287,\t3323,\t3325,\t3416,\t3479,\t3483,\t3494,\t3515,\t3521,\t3540,\t3577,\t3594,\t3611,\t3625,\t3652,\t3693,\t3701,\t3706,\t4916,\t4924,\t4938,\t4987,\t5215,\t5258,\t5264,\t5289,\t5304,\t5356,\t5386,\t5426,\t5438,\t5450,\t5465,\t5474,\t5490,\t6105,\t6117,\t6121,\t6123,\t6128,\t6150,\t6160,\t6161,\t6166,\t6172,\t6188,\t6206,\t6222,\t6228,\t6230,\t6235,\t6276,\t6277,\t6298,\t6414,\t6577,\t6579,\t8050,\t8076,\t8114,\t8163,\t8210,\t8234,\t8299,\t8410,\t9912,\n",
    "        #半導體\n",
    "            1437,\t2302,\t2303,\t2311,\t2325,\t2329,\t2330,\t2337,\t2338,\t2342,\t2344,\t2351,\t2363,\t2369,\t2379,\t2388,\t2401,\t2408,\t2434,\t2436,\t2441,\t2449,\t2451,\t2454,\t2458,\t2481,\t3006,\t3014,\t3016,\t3034,\t3035,\t3041,\t3054,\t3073,\t3094,\t3105,\t3122,\t3141,\t3169,\t3188,\t3189,\t3227,\t3228,\t3257,\t3259,\t3260,\t3264,\t3265,\t3268,\t3317,\t3372,\t3374,\t3413,\t3438,\t3443,\t3519,\t3527,\t3529,\t3532,\t3536,\t3545,\t3553,\t3555,\t3556,\t3567,\t3579,\t3581,\t3583,\t3588,\t3661,\t3675,\t3680,\t3686,\t3707,\t4919,\t4947,\t4952,\t4966,\t4968,\t4971,\t4973,\t4991,\t5269,\t5272,\t5274,\t5285,\t5302,\t5305,\t5314,\t5344,\t5347,\t5351,\t5425,\t5455,\t5468,\t5471,\t5483,\t5487,\t6103,\t6104,\t6129,\t6138,\t6147,\t6182,\t6198,\t6202,\t6223,\t6229,\t6233,\t6237,\t6239,\t6243,\t6257,\t6261,\t6271,\t6287,\t6291,\t6411,\t6415,\t6435,\t6451,\t6457,\t6462,\t6485,\t6488,\t6494,\t6510,\t6525,\t6531,\t6532,\t6533,\t6552,\t6568,\t6594,\t8016,\t8024,\t8040,\t8054,\t8081,\t8086,\t8088,\t8110,\t8131,\t8150,\t8261,\t8271,\t8277,\n",
    "        #其他電子業\n",
    "            1785,\t2312,\t2317,\t2354,\t2359,\t2360,\t2390,\t2404,\t2423,\t2433,\t2461,\t2464,\t2474,\t2477,\t2482,\t2488,\t2495,\t2497,\t3018,\t3030,\t3043,\t3064,\t3067,\t3093,\t3131,\t3285,\t3289,\t3305,\t3324,\t3373,\t3402,\t3450,\t3498,\t3508,\t3518,\t3541,\t3551,\t3552,\t3563,\t3580,\t3587,\t3617,\t3628,\t3642,\t3663,\t3665,\t4554,\t5225,\t5383,\t5452,\t5489,\t5493,\t5536,\t6139,\t6144,\t6146,\t6151,\t6187,\t6196,\t6201,\t6215,\t6238,\t6247,\t6275,\t6409,\t6438,\t6512,\t8021,\t8047,\t8085,\t8092,\t8183,\t8201,\t8383,\t8431,\t8455,\n",
    "        #光電業\n",
    "            2323,\t2340,\t2349,\t2374,\t2393,\t2406,\t2409,\t2426,\t2438,\t2448,\t2466,\t2475,\t2486,\t2489,\t2491,\t2499,\t3008,\t3019,\t3024,\t3031,\t3038,\t3049,\t3050,\t3051,\t3059,\t3066,\t3128,\t3149,\t3230,\t3297,\t3339,\t3356,\t3362,\t3383,\t3406,\t3428,\t3434,\t3437,\t3441,\t3452,\t3454,\t3455,\t3481,\t3490,\t3504,\t3514,\t3516,\t3522,\t3523,\t3531,\t3535,\t3557,\t3561,\t3562,\t3576,\t3591,\t3615,\t3622,\t3623,\t3629,\t3630,\t3666,\t3669,\t3673,\t3685,\t3691,\t3698,\t4729,\t4933,\t4934,\t4935,\t4942,\t4944,\t4956,\t4960,\t4972,\t4976,\t4995,\t5230,\t5234,\t5243,\t5245,\t5251,\t5259,\t5281,\t5315,\t5371,\t5392,\t5432,\t5443,\t5484,\t6116,\t6120,\t6125,\t6131,\t6164,\t6167,\t6168,\t6176,\t6209,\t6225,\t6226,\t6234,\t6244,\t6246,\t6278,\t6289,\t6405,\t6419,\t6431,\t6443,\t6456,\t6477,\t6548,\t6560,\t7402,\t8049,\t8064,\t8069,\t8087,\t8105,\t8111,\t8215,\t8240,\n",
    "        #通訊網路\n",
    "            2314,\t2321,\t2332,\t2345,\t2412,\t2419,\t2439,\t2444,\t2450,\t2455,\t2485,\t2496,\t2498,\t3025,\t3027,\t3045,\t3047,\t3062,\t3068,\t3081,\t3095,\t3152,\t3163,\t3221,\t3234,\t3290,\t3299,\t3306,\t3311,\t3363,\t3380,\t3419,\t3431,\t3466,\t3491,\t3499,\t3558,\t3564,\t3596,\t3632,\t3664,\t3672,\t3682,\t3684,\t3694,\t3704,\t4903,\t4904,\t4905,\t4906,\t4908,\t4909,\t4977,\t4979,\t4984,\t5348,\t5353,\t5388,\t6109,\t6136,\t6142,\t6143,\t6152,\t6163,\t6170,\t6190,\t6216,\t6218,\t6241,\t6245,\t6263,\t6283,\t6285,\t6417,\t6426,\t6442,\t6465,\t6470,\t6486,\t6514,\t8011,\t8034,\t8048,\t8059,\t8097,\t8101,\t8171,\t8176,\n",
    "        #資訊服務\n",
    "            2427,\t2453,\t2468,\t2471,\t3029,\t3083,\t3085,\t3130,\t3293,\t3546,\t3570,\t3687,\t4946,\t4953,\t4965,\t4994,\t5201,\t5202,\t5203,\t5205,\t5209,\t5210,\t5211,\t5212,\t5278,\t5287,\t5310,\t5403,\t5410,\t5478,\t6111,\t6112,\t6140,\t6148,\t6169,\t6180,\t6183,\t6214,\t6221,\t6231,\t6240,\t6404,\t8044,\t8099,\t8416,\t8472,\t8477,\n",
    "        #電子通路\n",
    "            2347,\t2414,\t2430,\t2459,\t3010,\t3028,\t3033,\t3036,\t3048,\t3055,\t3209,\t3224,\t3232,\t3312,\t3315,\t3360,\t3444,\t3528,\t3702,\t5434,\t6107,\t6113,\t6118,\t6145,\t6154,\t6189,\t6227,\t6265,\t6270,\t6281,\t8032,\t8067,\t8068,\t8070,\t8084,\t8096,\t8112\n",
    "    ]    \n",
    "    \n",
    "    for i in range(len(elec_companies)):\n",
    "        elec_companies[i] = str(elec_companies[i])\n",
    "        \n",
    "    table = raw[raw[0].isin(elec_companies)]\n",
    "    \n",
    "    return table"
   ]
  },
  {
   "cell_type": "code",
   "execution_count": 4,
   "metadata": {},
   "outputs": [],
   "source": [
    "def compare_year(year1, year2):\n",
    "    \n",
    "    #取出表格的公司代號欄，轉換成set\n",
    "    code1 = set(year1[0])\n",
    "    code2 = set(year2[0])\n",
    "       \n",
    "    #取兩年度公司代號之交集\n",
    "    code = code1.intersection(code2)\n",
    "    code = list(code)\n",
    "    \n",
    "    #year1\n",
    "    table1 = year1[year1[0].isin(code)]\n",
    "    table1 = table1.reset_index(drop=True) #重設index  \n",
    "    \n",
    "\n",
    "    #year2\n",
    "    table2 = year2[year2[0].isin(code)]\n",
    "    table2 = table2.reset_index(drop=True) #重設index  \n",
    "    \n",
    "    \n",
    "    return(table1, table2)"
   ]
  },
  {
   "cell_type": "code",
   "execution_count": 5,
   "metadata": {},
   "outputs": [],
   "source": [
    "def compare_season(raw, s):\n",
    "    if s == 3:\n",
    "        s1 = raw[0]\n",
    "        s2 = raw[1]\n",
    "        s3 = raw[2]\n",
    "        \n",
    "        #取出表格的公司代號欄，轉換成set\n",
    "        code1 = set(s1['公司代號'])\n",
    "        code2 = set(s2['公司代號'])\n",
    "        code3 = set(s3['公司代號'])\n",
    "\n",
    "        #取三季度公司代號之交集\n",
    "        code = code1.intersection(code2, code3)\n",
    "        code = list(code)   \n",
    "\n",
    "        #s1\n",
    "        table1 = s1[s1['公司代號'].isin(code)]\n",
    "        table1 = table1.reset_index(drop=True) #重設index      \n",
    "\n",
    "        #s2\n",
    "        table2 = s2[s2['公司代號'].isin(code)]\n",
    "        table2 = table2.reset_index(drop=True) #重設index  \n",
    "\n",
    "        #s3\n",
    "        table3 = s3[s3['公司代號'].isin(code)]\n",
    "        table3 = table3.reset_index(drop=True) #重設index \n",
    "\n",
    "        return(table1, table2, table3)\n",
    "    \n",
    "    "
   ]
  },
  {
   "cell_type": "code",
   "execution_count": 6,
   "metadata": {},
   "outputs": [],
   "source": [
    "def category(raw):\n",
    "    \n",
    "    series = raw[0:1]\n",
    "    category1 = [] #儲存公司代號、公司名稱、營業收入、營業毛利、基本每股盈餘之index\n",
    "    category2 = [] #儲存所有類別的index\n",
    "    \n",
    "    for i in series:\n",
    "        category2.append(series[i].name)\n",
    "        if series[i][0] == '公司代號' or series[i][0] == '公司名稱' or series[i][0] == '營業收入' or series[i][0] == '營業毛利（毛損）淨額' or series[i][0] == '基本每股盈餘（元）':\n",
    "            category1.append(i)    \n",
    "    \n",
    "    category1 = set(category1) #轉成set\n",
    "    category2 = set(category2) #轉成set\n",
    "    category3 = list(category2 - category1) #category3為不要的類別\n",
    "    \n",
    "    table = raw.drop(category3, axis=1)#刪除不要的類別  \n",
    "    table.columns = [0, 1, 2, 3, 4]#重設column index    \n",
    "    \n",
    "    return table"
   ]
  },
  {
   "cell_type": "code",
   "execution_count": 7,
   "metadata": {},
   "outputs": [],
   "source": [
    "def season(year):\n",
    "    \n",
    "    payload['year'] = year[0]    \n",
    "    payload['season'] = year[1]  \n",
    "    \n",
    "    req = requests.post(url, data = payload, headers = head)\n",
    "    req.encoding = 'utf8'\n",
    "    \n",
    "    table = pd.read_html(req.text)[3] #第四張表格才是我們要的資料   \n",
    "    table = category(table)#篩選出eps, 營收, 毛利\n",
    "    table = elec(table)#刪除非電子零件類股    \n",
    "        \n",
    "    return table"
   ]
  },
  {
   "cell_type": "code",
   "execution_count": 8,
   "metadata": {},
   "outputs": [],
   "source": [
    "def growth(year):#y1新, y2舊\n",
    "\n",
    "    #從year取出兩個年度\n",
    "    year1 = year[0]\n",
    "    year2 = year[1]\n",
    "    \n",
    "    #使y1, y2 公司名單相同\n",
    "    y = compare_year(year1, year2)\n",
    "    y1 = y[0]\n",
    "    y2 = y[1]\n",
    "\n",
    "    code = []#公司代號\n",
    "    company = []#公司名稱\n",
    "    income = []#營業收入\n",
    "    profit = []#營業毛利（毛損）淨額\n",
    "    eps = []#基本每股盈餘（元）\n",
    "\n",
    "    for j in range(1, y1.shape[0]):\n",
    "        code.append(y1[0][j])\n",
    "        company.append(y1[1][j])\n",
    "        income.append((float(y1[2][j]) - float(y2[2][j])) / float(y2[2][j]))#income成長率\n",
    "        profit.append((float(y1[3][j]) - float(y2[3][j])) / float(y2[3][j]))#profit成長率\n",
    "\n",
    "        #萬一eps為零，為了不讓分母為零，將其設為0.00000000000000000001\n",
    "        if float(y2[4][j]) == 0:\n",
    "            y2[4][j] = 0.00000000000000000001\n",
    "        \n",
    "        #分母必須為正，否則成長率有時會正負相反\n",
    "        mother = float(y2[4][j])\n",
    "        if mother < 0:\n",
    "            mother = mother*(-1)\n",
    "        eps.append((float(y1[4][j]) - float(y2[4][j])) / mother)#eps成長率\n",
    "\n",
    "    s = {\n",
    "        '公司代號':code,\n",
    "        '公司名稱':company,\n",
    "        '營業收入':income,\n",
    "        '營業毛利（毛損）淨額':profit,\n",
    "        '基本每股盈餘（元）':eps\n",
    "    }\n",
    "    s = pd.DataFrame(data = s)\n",
    "        \n",
    "    return s\n",
    "\n",
    "#     return (year1, year2, y1, y2)"
   ]
  },
  {
   "cell_type": "code",
   "execution_count": 9,
   "metadata": {},
   "outputs": [],
   "source": [
    "def multicore_season(y, pool):\n",
    "\n",
    "    res = pool.map(season, y)#迭代相對應的次數\n",
    "    \n",
    "    return res"
   ]
  },
  {
   "cell_type": "code",
   "execution_count": 10,
   "metadata": {},
   "outputs": [],
   "source": [
    "def multicore_growth(s, y_new, y_old, pool):\n",
    "    \n",
    "    y_new = multicore_season(y_new, pool)\n",
    "    y_old = multicore_season(y_old, pool)    \n",
    "    \n",
    "    y = []\n",
    "    for i in range(s):\n",
    "        y.append([y_new[i], y_old[i]])\n",
    "\n",
    "    res = pool.map(growth, y)#迭代相對應的次數\n",
    "   \n",
    "    return res"
   ]
  },
  {
   "cell_type": "code",
   "execution_count": 11,
   "metadata": {},
   "outputs": [],
   "source": [
    "def eps(t, s):\n",
    "    #3季\n",
    "    if s == 3:\n",
    "        t1 = t[0]\n",
    "        t2 = t[1]\n",
    "        t3 = t[2]\n",
    "        \n",
    "        #只留下eps欄\n",
    "        t1 = t1.drop(['營業收入', '營業毛利（毛損）淨額'], axis=1)\n",
    "        t2 = t2.drop(['營業收入', '營業毛利（毛損）淨額'], axis=1)\n",
    "        t3 = t3.drop(['營業收入', '營業毛利（毛損）淨額'], axis=1)\n",
    "        \n",
    "        #重設column index\n",
    "        t1.columns = ['公司代號', '公司名稱', '基本每股盈餘（元）']\n",
    "        t2.columns = ['公司代號', '公司名稱', '基本每股盈餘（元）']\n",
    "        t3.columns = ['公司代號', '公司名稱', '基本每股盈餘（元）']\n",
    "\n",
    "        #使三季公司名單相同\n",
    "        t = [t1, t2, t3]\n",
    "        s = compare_season(t, s)\n",
    "        s1 = s[0]\n",
    "        s2 = s[1]\n",
    "        s3 = s[2]\n",
    "\n",
    "        for i in range(s1.shape[0]):\n",
    "            if s1['基本每股盈餘（元）'][i] <= 0 or s2['基本每股盈餘（元）'][i] <= 0 or s3['基本每股盈餘（元）'][i] <= 0: \n",
    "                s1 = s1.drop([i], axis = 0)\n",
    "                s2 = s2.drop([i], axis = 0)\n",
    "                s3 = s3.drop([i], axis = 0)\n",
    "\n",
    "        #排序\n",
    "        s1 = s1.sort_values(by = '基本每股盈餘（元）', ascending = False)\n",
    "        s2 = s2.sort_values(by = '基本每股盈餘（元）', ascending = False)\n",
    "        s3 = s3.sort_values(by = '基本每股盈餘（元）', ascending = False)\n",
    "        \n",
    "        #重設index\n",
    "        s1 = s1.reset_index(drop=True) \n",
    "        s2 = s2.reset_index(drop=True) \n",
    "        s3 = s3.reset_index(drop=True)         \n",
    "\n",
    "        return (s1, s2, s3) \n",
    "    \n"
   ]
  },
  {
   "cell_type": "code",
   "execution_count": 12,
   "metadata": {},
   "outputs": [],
   "source": [
    "def income(t, s):\n",
    "    \n",
    "    #3季\n",
    "    if s == 3:\n",
    "        t1 = t[0]\n",
    "        t2 = t[1]\n",
    "        t3 = t[2]\n",
    "        \n",
    "        #只留下eps欄\n",
    "        t1 = t1.drop(['基本每股盈餘（元）', '營業毛利（毛損）淨額'], axis=1)\n",
    "        t2 = t2.drop(['基本每股盈餘（元）', '營業毛利（毛損）淨額'], axis=1)\n",
    "        t3 = t3.drop(['基本每股盈餘（元）', '營業毛利（毛損）淨額'], axis=1)\n",
    "        \n",
    "        #重設column index\n",
    "        t1.columns = ['公司代號', '公司名稱', '營業收入']\n",
    "        t2.columns = ['公司代號', '公司名稱', '營業收入']\n",
    "        t3.columns = ['公司代號', '公司名稱', '營業收入']\n",
    "\n",
    "        #使三季公司名單相同\n",
    "        t = [t1, t2, t3]\n",
    "        s = compare_season(t, s)\n",
    "        s1 = s[0]\n",
    "        s2 = s[1]\n",
    "        s3 = s[2]\n",
    "\n",
    "        for i in range(s1.shape[0]):\n",
    "            if s1['營業收入'][i] <= 0 or s2['營業收入'][i] <= 0 or s3['營業收入'][i] <= 0: \n",
    "                s1 = s1.drop([i], axis = 0)\n",
    "                s2 = s2.drop([i], axis = 0)\n",
    "                s3 = s3.drop([i], axis = 0)\n",
    "\n",
    "        #排序\n",
    "        s1 = s1.sort_values(by = '營業收入', ascending = False)\n",
    "        s2 = s2.sort_values(by = '營業收入', ascending = False)\n",
    "        s3 = s3.sort_values(by = '營業收入', ascending = False)\n",
    "        \n",
    "        #重設index\n",
    "        s1 = s1.reset_index(drop=True) \n",
    "        s2 = s2.reset_index(drop=True) \n",
    "        s3 = s3.reset_index(drop=True)         \n",
    "\n",
    "        return (s1, s2, s3) \n",
    "    \n"
   ]
  },
  {
   "cell_type": "code",
   "execution_count": 13,
   "metadata": {},
   "outputs": [],
   "source": [
    "def profit(t, s):\n",
    "    #3季\n",
    "    if s == 3:\n",
    "        t1 = t[0]\n",
    "        t2 = t[1]\n",
    "        t3 = t[2]\n",
    "        \n",
    "        #只留下eps欄\n",
    "        t1 = t1.drop(['基本每股盈餘（元）', '營業收入'], axis=1)\n",
    "        t2 = t2.drop(['基本每股盈餘（元）', '營業收入'], axis=1)\n",
    "        t3 = t3.drop(['基本每股盈餘（元）', '營業收入'], axis=1)\n",
    "        \n",
    "        #重設column index\n",
    "        t1.columns = ['公司代號', '公司名稱', '營業毛利（毛損）淨額']\n",
    "        t2.columns = ['公司代號', '公司名稱', '營業毛利（毛損）淨額']\n",
    "        t3.columns = ['公司代號', '公司名稱', '營業毛利（毛損）淨額']\n",
    "\n",
    "        #使三季公司名單相同\n",
    "        t = [t1, t2, t3]\n",
    "        s = compare_season(t, s)\n",
    "        s1 = s[0]\n",
    "        s2 = s[1]\n",
    "        s3 = s[2]\n",
    "\n",
    "        for i in range(1, s1.shape[0]):\n",
    "            if s1['營業毛利（毛損）淨額'][i] <= 0 or s2['營業毛利（毛損）淨額'][i] <= 0 or s3['營業毛利（毛損）淨額'][i] <= 0: \n",
    "                s1 = s1.drop([i], axis = 0)\n",
    "                s2 = s2.drop([i], axis = 0)\n",
    "                s3 = s3.drop([i], axis = 0)\n",
    "\n",
    "        #排序\n",
    "        s1 = s1.sort_values(by = '營業毛利（毛損）淨額', ascending = False)\n",
    "        s2 = s2.sort_values(by = '營業毛利（毛損）淨額', ascending = False)\n",
    "        s3 = s3.sort_values(by = '營業毛利（毛損）淨額', ascending = False)\n",
    "        \n",
    "        #重設index\n",
    "        s1 = s1.reset_index(drop=True) \n",
    "        s2 = s2.reset_index(drop=True) \n",
    "        s3 = s3.reset_index(drop=True)         \n",
    "\n",
    "        return (s1, s2, s3) \n",
    "    \n"
   ]
  },
  {
   "cell_type": "code",
   "execution_count": 14,
   "metadata": {},
   "outputs": [],
   "source": [
    "def intersection(e_raw, i_raw, p_raw):\n",
    "    \n",
    "    e1_raw = e_raw[0]\n",
    "    i1_raw = i_raw[0]\n",
    "    p1_raw = p_raw[0]\n",
    "    \n",
    "    e2_raw = e_raw[1]\n",
    "    i2_raw = i_raw[1]\n",
    "    p2_raw = p_raw[1]\n",
    "    \n",
    "    e3_raw = e_raw[2]\n",
    "    i3_raw = i_raw[2]\n",
    "    p3_raw = p_raw[2]\n",
    "    \n",
    "    #eps, income, profit皆有上榜才能留下，取其公司代號之交集\n",
    "    e_code = set(e1_raw['公司代號'])\n",
    "    i_code = set(i1_raw['公司代號'])\n",
    "    p_code = set(p1_raw['公司代號'])\n",
    "    code = e_code.intersection(i_code, p_code) #公司代號之交集\n",
    "    code = list(code)  \n",
    "    \n",
    "    \n",
    "    #重篩表格，把符合code的留下\n",
    "    #eps\n",
    "    e1_new = e1_raw[e1_raw['公司代號'].isin(code)]\n",
    "    e1_new = e1_new.reset_index(drop=True) #重設index \n",
    "    \n",
    "    e2_new = e2_raw[e2_raw['公司代號'].isin(code)]\n",
    "    e2_new = e2_new.reset_index(drop=True) #重設index \n",
    "    \n",
    "    e3_new = e3_raw[e3_raw['公司代號'].isin(code)]\n",
    "    e3_new = e3_new.reset_index(drop=True) #重設index\n",
    "    \n",
    "    e_new = [e1_new, e2_new, e3_new]\n",
    "    \n",
    "    #income\n",
    "    i1_new = i1_raw[i1_raw['公司代號'].isin(code)]\n",
    "    i1_new = i1_new.reset_index(drop=True) #重設index \n",
    "    \n",
    "    i2_new = i2_raw[i2_raw['公司代號'].isin(code)]\n",
    "    i2_new = i2_new.reset_index(drop=True) #重設index \n",
    "    \n",
    "    i3_new = i3_raw[i3_raw['公司代號'].isin(code)]\n",
    "    i3_new = i3_new.reset_index(drop=True) #重設index\n",
    "    \n",
    "    i_new = [i1_new, i2_new, i3_new]\n",
    "    \n",
    "    #profit\n",
    "    p1_new = p1_raw[p1_raw['公司代號'].isin(code)]\n",
    "    p1_new = p1_new.reset_index(drop=True) #重設index \n",
    "    \n",
    "    p2_new = p2_raw[p2_raw['公司代號'].isin(code)]\n",
    "    p2_new = p2_new.reset_index(drop=True) #重設index \n",
    "    \n",
    "    p3_new = p3_raw[p3_raw['公司代號'].isin(code)]\n",
    "    p3_new = p3_new.reset_index(drop=True) #重設index\n",
    "    \n",
    "    p_new = [p1_new, p2_new, p3_new]    \n",
    "\n",
    "    return (e_new, i_new, p_new)"
   ]
  },
  {
   "cell_type": "code",
   "execution_count": 15,
   "metadata": {},
   "outputs": [],
   "source": [
    "def excel(eps, income, profit, s):\n",
    "    #eps\n",
    "    writer = pd.ExcelWriter('Eps.xlsx')\n",
    "    eps[0].to_excel(writer,'season1')\n",
    "    eps[1].to_excel(writer,'season2')\n",
    "    if s > 2:\n",
    "        eps[2].to_excel(writer,'season3')\n",
    "    writer.save()\n",
    "    \n",
    "    #income\n",
    "    writer = pd.ExcelWriter('Income.xlsx')\n",
    "    income[0].to_excel(writer,'season1')\n",
    "    income[1].to_excel(writer,'season2')\n",
    "    if s > 2:\n",
    "        income[2].to_excel(writer,'season3')\n",
    "    writer.save()\n",
    "    \n",
    "    #profit\n",
    "    writer = pd.ExcelWriter('Profit.xlsx')\n",
    "    profit[0].to_excel(writer,'season1')\n",
    "    profit[1].to_excel(writer,'season2')\n",
    "    if s > 2:\n",
    "        profit[2].to_excel(writer,'season3')\n",
    "    writer.save()"
   ]
  },
  {
   "cell_type": "markdown",
   "metadata": {},
   "source": [
    "<br><br><br><br><br><br><br><br><br>"
   ]
  },
  {
   "cell_type": "markdown",
   "metadata": {},
   "source": [
    "# 參數設置"
   ]
  },
  {
   "cell_type": "markdown",
   "metadata": {},
   "source": [
    "## 設置年度"
   ]
  },
  {
   "cell_type": "code",
   "execution_count": 16,
   "metadata": {},
   "outputs": [
    {
     "name": "stdout",
     "output_type": "stream",
     "text": [
      "CPU times: user 4 µs, sys: 0 ns, total: 4 µs\n",
      "Wall time: 9.3 µs\n"
     ]
    }
   ],
   "source": [
    "%%time\n",
    "year_new = [105, 3, 106, 1]\n",
    "year_old = [104, 3, 105, 1]\n",
    "seasons = 3"
   ]
  },
  {
   "cell_type": "markdown",
   "metadata": {},
   "source": [
    "## 單年度單季資料"
   ]
  },
  {
   "cell_type": "code",
   "execution_count": 17,
   "metadata": {},
   "outputs": [
    {
     "name": "stdout",
     "output_type": "stream",
     "text": [
      "CPU times: user 25.9 ms, sys: 29.5 ms, total: 55.5 ms\n",
      "Wall time: 12.4 s\n"
     ]
    }
   ],
   "source": [
    "%%time\n",
    "if __name__ == '__main__':\n",
    "    pool = mp.Pool()\n",
    "    \n",
    "    Y = inputs(year_new)\n",
    "    \n",
    "    s = multicore_season(Y, pool)\n",
    "    \n",
    "    pool.close\n",
    "    pool.join\n",
    "    \n",
    "    s1 = s[0]\n",
    "    s2 = s[1]\n",
    "    if seasons > 2:\n",
    "        s3 = s[2]    "
   ]
  },
  {
   "cell_type": "markdown",
   "metadata": {},
   "source": [
    "## YoY三季成長資料"
   ]
  },
  {
   "cell_type": "code",
   "execution_count": 18,
   "metadata": {},
   "outputs": [
    {
     "name": "stdout",
     "output_type": "stream",
     "text": [
      "CPU times: user 61.4 ms, sys: 46.5 ms, total: 108 ms\n",
      "Wall time: 23.7 s\n"
     ]
    }
   ],
   "source": [
    "%%time\n",
    "if __name__ == '__main__':\n",
    "    pool = mp.Pool()\n",
    "    \n",
    "    \n",
    "    Y_new = inputs(year_new)\n",
    "    Y_old = inputs(year_old)\n",
    "    \n",
    "    g = multicore_growth(seasons, Y_new, Y_old, pool)\n",
    "    \n",
    "    pool.close\n",
    "    pool.join    \n",
    "    \n",
    "    g1 = g[0]\n",
    "    g2 = g[1]\n",
    "    if seasons > 2:\n",
    "        g3 = g[2]     \n",
    "    "
   ]
  },
  {
   "cell_type": "markdown",
   "metadata": {},
   "source": [
    "## eps or 毛利淨額 or 營收"
   ]
  },
  {
   "cell_type": "code",
   "execution_count": 19,
   "metadata": {},
   "outputs": [
    {
     "name": "stdout",
     "output_type": "stream",
     "text": [
      "CPU times: user 773 ms, sys: 32.1 ms, total: 806 ms\n",
      "Wall time: 817 ms\n"
     ]
    }
   ],
   "source": [
    "%%time\n",
    "e = eps(g, seasons)\n",
    "e1 = e[0]\n",
    "e2 = e[1]\n",
    "if seasons > 2:\n",
    "    e3 = e[2]  "
   ]
  },
  {
   "cell_type": "code",
   "execution_count": 20,
   "metadata": {},
   "outputs": [
    {
     "name": "stdout",
     "output_type": "stream",
     "text": [
      "CPU times: user 640 ms, sys: 21.7 ms, total: 662 ms\n",
      "Wall time: 661 ms\n"
     ]
    }
   ],
   "source": [
    "%%time\n",
    "i = income(g, seasons)\n",
    "i1 = i[0]\n",
    "i2 = i[1]\n",
    "if seasons > 2:\n",
    "    i3 = i[2]  "
   ]
  },
  {
   "cell_type": "code",
   "execution_count": 21,
   "metadata": {},
   "outputs": [
    {
     "name": "stdout",
     "output_type": "stream",
     "text": [
      "CPU times: user 611 ms, sys: 14.4 ms, total: 625 ms\n",
      "Wall time: 627 ms\n"
     ]
    }
   ],
   "source": [
    "%%time\n",
    "p = profit(g, seasons)\n",
    "p1 = p[0]\n",
    "p2 = p[1]\n",
    "if seasons > 2:\n",
    "    p3 = p[2]  "
   ]
  },
  {
   "cell_type": "markdown",
   "metadata": {},
   "source": [
    "## 交集"
   ]
  },
  {
   "cell_type": "code",
   "execution_count": 22,
   "metadata": {},
   "outputs": [
    {
     "name": "stdout",
     "output_type": "stream",
     "text": [
      "CPU times: user 10.3 ms, sys: 955 µs, total: 11.2 ms\n",
      "Wall time: 10.8 ms\n"
     ]
    }
   ],
   "source": [
    "%%time\n",
    "intersec = intersection(e, i, p)\n",
    "\n",
    "e_intersec = intersec[0]\n",
    "e1_intersec = e_intersec[0]\n",
    "e2_intersec = e_intersec[1]\n",
    "e3_intersec = e_intersec[2]\n",
    "\n",
    "i_intersec = intersec[1]\n",
    "i1_intersec = i_intersec[0]\n",
    "i2_intersec = i_intersec[1]\n",
    "i3_intersec = i_intersec[2]\n",
    "\n",
    "p_intersec = intersec[2]\n",
    "p1_intersec = p_intersec[0]\n",
    "p2_intersec = p_intersec[1]\n",
    "p3_intersec = p_intersec[2]"
   ]
  },
  {
   "cell_type": "markdown",
   "metadata": {},
   "source": [
    "## 輸出成excel"
   ]
  },
  {
   "cell_type": "code",
   "execution_count": 22,
   "metadata": {},
   "outputs": [
    {
     "name": "stdout",
     "output_type": "stream",
     "text": [
      "CPU times: user 336 ms, sys: 38.2 ms, total: 374 ms\n",
      "Wall time: 405 ms\n"
     ]
    }
   ],
   "source": [
    "%%time\n",
    "excel(e, i, p, seasons)"
   ]
  },
  {
   "cell_type": "code",
   "execution_count": 23,
   "metadata": {},
   "outputs": [
    {
     "name": "stdout",
     "output_type": "stream",
     "text": [
      "CPU times: user 179 ms, sys: 28.3 ms, total: 208 ms\n",
      "Wall time: 210 ms\n"
     ]
    }
   ],
   "source": [
    "%%time\n",
    "excel(e_intersec, i_intersec, p_intersec, seasons)"
   ]
  },
  {
   "cell_type": "markdown",
   "metadata": {},
   "source": [
    "# 演示區"
   ]
  },
  {
   "cell_type": "code",
   "execution_count": null,
   "metadata": {},
   "outputs": [],
   "source": [
    "s1"
   ]
  },
  {
   "cell_type": "code",
   "execution_count": null,
   "metadata": {},
   "outputs": [],
   "source": [
    "g1"
   ]
  },
  {
   "cell_type": "code",
   "execution_count": null,
   "metadata": {},
   "outputs": [],
   "source": [
    "e1"
   ]
  },
  {
   "cell_type": "code",
   "execution_count": null,
   "metadata": {},
   "outputs": [],
   "source": [
    "i3_intersec"
   ]
  },
  {
   "cell_type": "code",
   "execution_count": null,
   "metadata": {},
   "outputs": [],
   "source": [
    "filter = i3_intersec['公司名稱'] == '三商電腦' \n",
    "i3_intersec[filter] "
   ]
  }
 ],
 "metadata": {
  "kernelspec": {
   "display_name": "Python 3",
   "language": "python",
   "name": "python3"
  },
  "language_info": {
   "codemirror_mode": {
    "name": "ipython",
    "version": 3
   },
   "file_extension": ".py",
   "mimetype": "text/x-python",
   "name": "python",
   "nbconvert_exporter": "python",
   "pygments_lexer": "ipython3",
   "version": "3.6.0"
  }
 },
 "nbformat": 4,
 "nbformat_minor": 2
}
