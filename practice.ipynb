{
 "cells": [
  {
   "cell_type": "code",
   "execution_count": 1,
   "metadata": {
    "collapsed": true
   },
   "outputs": [],
   "source": [
    "def order(o):\n",
    "    asymp = []\n",
    "    for i in range(len(o)):\n",
    "        a = o[i](2)\n",
    "        b = o[i](3)\n",
    "        c = o[i](4)\n",
    "        asymp.append(((c-b)/(4-3)-(b-a)/(3-2)) / ((b-a)/(3-2)))\n",
    "    \n",
    "    return asymp"
   ]
  },
  {
   "cell_type": "code",
   "execution_count": 2,
   "metadata": {},
   "outputs": [],
   "source": [
    "import math\n",
    "import sys\n",
    "\n",
    "f1 = lambda n: n\n",
    "f2 = lambda n: 2**n\n",
    "f3 = lambda n: n*math.log(n, 2)\n",
    "f4 = lambda n: n**3\n",
    "f5 = lambda n: n**2\n",
    "f6 = lambda n: 7*(n**5)-(n**3)+n\n",
    "f7 = lambda n: (n**2)+math.log(n, 2)\n",
    "f8 = lambda n: math.exp(1)**n\n",
    "f9 = lambda n: n**0.5\n",
    "f10 = lambda n: 2**(n-1)\n",
    "f11 = lambda n: math.log(math.log(n, 2), 2)\n",
    "f12 = lambda n: math.log(n, 2)\n",
    "f13 = lambda n: (math.log(n, 2))**2\n",
    "f14 = lambda n: math.factorial(n)\n",
    "f15 = lambda n: n**(1+sys.float_info.epsilon)\n",
    "\n",
    "O = [f1, f2, f3, f4, f5, f6, f7, f8, f9, f10, f11, f12, f13, f14, f15]\n",
    "\n",
    "answer = order(O)"
   ]
  },
  {
   "cell_type": "code",
   "execution_count": 3,
   "metadata": {},
   "outputs": [
    {
     "data": {
      "text/plain": [
       "[0.0,\n",
       " 1.0,\n",
       " 0.17794737363615687,\n",
       " 0.9473684210526315,\n",
       " 0.4,\n",
       " 2.722412611377656,\n",
       " 0.32767901276353784,\n",
       " 1.7182818284590449,\n",
       " -0.15696100289923257,\n",
       " 1.0,\n",
       " -0.4949929335675672,\n",
       " -0.2904887086485456,\n",
       " -0.016012273824630812,\n",
       " 3.5,\n",
       " -4.440892098500624e-16]"
      ]
     },
     "execution_count": 3,
     "metadata": {},
     "output_type": "execute_result"
    }
   ],
   "source": [
    "answer"
   ]
  },
  {
   "cell_type": "code",
   "execution_count": null,
   "metadata": {
    "collapsed": true
   },
   "outputs": [],
   "source": [
    "n, 2n, nlogn, n3, n2, 7n5 −n3 +n, n2 +logn, en, √n, 2n−1, loglogn, logn, log2 n, n!, n1+ε (0 < ε < 1)."
   ]
  },
  {
   "cell_type": "code",
   "execution_count": 17,
   "metadata": {},
   "outputs": [
    {
     "data": {
      "text/plain": [
       "2.220446049250313e-16"
      ]
     },
     "execution_count": 17,
     "metadata": {},
     "output_type": "execute_result"
    }
   ],
   "source": [
    "import sys\n",
    "sys.float_info.epsilon"
   ]
  }
 ],
 "metadata": {
  "kernelspec": {
   "display_name": "Python 3",
   "language": "python",
   "name": "python3"
  },
  "language_info": {
   "codemirror_mode": {
    "name": "ipython",
    "version": 3
   },
   "file_extension": ".py",
   "mimetype": "text/x-python",
   "name": "python",
   "nbconvert_exporter": "python",
   "pygments_lexer": "ipython3",
   "version": "3.6.1"
  }
 },
 "nbformat": 4,
 "nbformat_minor": 2
}
