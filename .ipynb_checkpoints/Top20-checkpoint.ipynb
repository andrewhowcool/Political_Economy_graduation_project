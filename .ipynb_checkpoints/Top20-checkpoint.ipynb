{
 "cells": [
  {
   "cell_type": "markdown",
   "metadata": {},
   "source": [
    "<font size=\"7\" face=\"monospace\">Top 20</font>"
   ]
  },
  {
   "cell_type": "markdown",
   "metadata": {},
   "source": [
    "<br>\n",
    "<font size=\"5\" face=\"monospace\">\n",
    "    資料來源：http://www.twse.com.tw/zh/page/trading/exchange/MI_INDEX20.html\n",
    "</font>"
   ]
  },
  {
   "cell_type": "markdown",
   "metadata": {},
   "source": [
    "<br>\n",
    "<font size=\"5\" face=\"monospace\">\n",
    "    不同公司比較其成交資訊\n",
    "</font>"
   ]
  },
  {
   "cell_type": "code",
   "execution_count": 1,
   "metadata": {
    "collapsed": true
   },
   "outputs": [],
   "source": [
    "# %matplotlib inline\n",
    "import requests\n",
    "import pandas as pd\n",
    "import multiprocessing as mp\n",
    "from functools import partial\n",
    "import matplotlib.pyplot as plt "
   ]
  },
  {
   "cell_type": "code",
   "execution_count": 2,
   "metadata": {
    "collapsed": true
   },
   "outputs": [],
   "source": [
    "def url(y, m, d):\n",
    "    \n",
    "    y = str(y)\n",
    "    m = str(m)\n",
    "    d = str(d)\n",
    "    \n",
    "    #兩位數，若有空則補零\n",
    "    m = m.zfill(2)\n",
    "    d = d.zfill(2)\n",
    "    \n",
    "    url = 'http://www.twse.com.tw/exchangeReport/MI_INDEX20?response=csv&date=' + y + m + d\n",
    "    table = pd.read_csv(url, encoding='big5')\n",
    "    \n",
    "    return table"
   ]
  },
  {
   "cell_type": "code",
   "execution_count": 3,
   "metadata": {
    "collapsed": true
   },
   "outputs": [],
   "source": [
    "def clean(table):\n",
    "    \n",
    "    #刪除不需要的欄位\n",
    "    table_name = table.columns.values[0] #儲存標頭\n",
    "    table = table.reset_index() #重設index和column names\n",
    "    table.columns = ['排名', '證券代號', '證券名稱', '成交股數', '成交筆數' , '開盤價', '最高價', '最低價', '收盤價', '漲跌(+/-)', '漲跌價差', '最後揭示買價', '最後揭示賣價', 'temp']\n",
    "    table.drop(['temp'], axis = 1, inplace = True) #將最後一行的NaN刪除\n",
    "    table.drop([0, 21, 22, 23, 24], axis = 0, inplace = True) #將說明刪除\n",
    "    table = table.reset_index(drop = True) #重設index   \n",
    "    \n",
    "    \n",
    "#     #將string轉換為float\n",
    "#     key = ['成交股數', '成交金額', '開盤價', '最高價' , '最低價', '收盤價', '漲跌價差', '成交筆數']\n",
    "#     for i in range(len(key)):\n",
    "#         table[key[i]] = table[key[i]].apply(lambda x: float(x.split()[0].replace(',', '')))\n",
    "#         table[key[i]] = table[key[i]].astype(float)\n",
    "    \n",
    "#     #將string轉為西元，再轉為datetime\n",
    "#     for i in range(len(table['日期'])):\n",
    "#         day = table.loc[i, '日期']\n",
    "#         day = day.replace('/', '-')\n",
    "#         temp = str(int(day[0:3]) + 1911) #民國轉西元\n",
    "#         day = day.replace(day[0:3], temp)\n",
    "#         table.loc[i, '日期'] = day\n",
    "#     table['日期'] = table['日期'].astype('datetime64[ns]')\n",
    "    \n",
    "    return (table_name, table)"
   ]
  },
  {
   "cell_type": "code",
   "execution_count": 4,
   "metadata": {
    "collapsed": true
   },
   "outputs": [],
   "source": [
    "def code(table):\n",
    "    \n",
    "    c = table['證券代號']\n",
    "    \n",
    "    for i in range(len(c)):\n",
    "        c_temp = c[i] \n",
    "        \n",
    "        #若證券代號為 ='xxxx'，將其改為正常格式\n",
    "        if c_temp[0] == '=':\n",
    "            c_temp = c_temp.replace(c_temp[0:2], '')\n",
    "            c_temp = c_temp.replace(c_temp[6], '')\n",
    "            c[i] = c_temp\n",
    "            \n",
    "    c = c.drop(c.index[0]) #刪除證券代號（文字），留下純代號\n",
    "            \n",
    "    return c"
   ]
  },
  {
   "cell_type": "code",
   "execution_count": 5,
   "metadata": {
    "collapsed": true
   },
   "outputs": [],
   "source": [
    "def title(name):\n",
    "    \n",
    "    name = name.replace(' ', '')\n",
    "    temp = str(int(name[0:3]) + 1911) #民國轉西元\n",
    "    name = name.replace(name[0:3], temp)\n",
    "    \n",
    "    return name"
   ]
  },
  {
   "cell_type": "code",
   "execution_count": 6,
   "metadata": {
    "collapsed": true
   },
   "outputs": [],
   "source": [
    "def main(year, month, day):\n",
    "\n",
    "    table = url(year, month, day)\n",
    "    table = clean(table)\n",
    "\n",
    "    #標頭\n",
    "    table_name = table[0]\n",
    "    table_name = title(table_name)\n",
    "\n",
    "    #表格\n",
    "    table_data = table[1]\n",
    "\n",
    "    #取得前20名證券代號\n",
    "    top20 = code(table_data)\n",
    "\n",
    "    table = [table_name, table_data, top20]"
   ]
  },
  {
   "cell_type": "code",
   "execution_count": null,
   "metadata": {
    "collapsed": true
   },
   "outputs": [],
   "source": []
  }
 ],
 "metadata": {
  "kernelspec": {
   "display_name": "Python 3",
   "language": "python",
   "name": "python3"
  },
  "language_info": {
   "codemirror_mode": {
    "name": "ipython",
    "version": 3
   },
   "file_extension": ".py",
   "mimetype": "text/x-python",
   "name": "python",
   "nbconvert_exporter": "python",
   "pygments_lexer": "ipython3",
   "version": "3.6.1"
  }
 },
 "nbformat": 4,
 "nbformat_minor": 2
}
